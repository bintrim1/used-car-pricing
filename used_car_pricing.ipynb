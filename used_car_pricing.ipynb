{
 "cells": [
  {
   "cell_type": "markdown",
   "metadata": {},
   "source": [
    "Rusty Bargain used car sales service is developing an app to attract new customers. In that app, you can quickly find out the market value of your car. You have access to historical data: technical specifications, trim versions, and prices. You need to build the model to determine the value. \n",
    "\n",
    "Rusty Bargain is interested in:\n",
    "\n",
    "- the quality of the prediction;\n",
    "- the speed of the prediction;\n",
    "- the time required for training"
   ]
  },
  {
   "cell_type": "markdown",
   "metadata": {},
   "source": [
    "# Data Provided\n",
    "\n",
    "**Features**\n",
    "\n",
    "`DateCrawled` — date profile was downloaded from the database\\\n",
    "`VehicleType` — vehicle body type\\\n",
    "`RegistrationYear` — vehicle registration year\\\n",
    "`Gearbox` — gearbox type\\\n",
    "`Power` — power (hp)\\\n",
    "`Model` — vehicle model\\\n",
    "`Mileage` — mileage (measured in km due to dataset's regional specifics)\\\n",
    "`RegistrationMonth` — vehicle registration month\\\n",
    "`FuelType` — fuel type\\\n",
    "`Brand` — vehicle brand\\\n",
    "`NotRepaired` — vehicle repaired or not\\\n",
    "`DateCreated` — date of profile creation\\\n",
    "`NumberOfPictures` — number of vehicle pictures\\\n",
    "`PostalCode` — postal code of profile owner (user)\\\n",
    "`LastSeen` — date of the last activity of the user\n",
    "\n",
    "**Target**\n",
    "\n",
    "`Price` — price (Euro)"
   ]
  },
  {
   "cell_type": "code",
   "execution_count": 1,
   "metadata": {},
   "outputs": [],
   "source": [
    "# importing libraries\n",
    "\n",
    "import pandas as pd\n",
    "from sklearn.model_selection import train_test_split\n",
    "import lightgbm as lgb\n",
    "import numpy as np\n",
    "import xgboost as xgb\n",
    "from sklearn.metrics import mean_squared_error\n",
    "from sklearn.linear_model import LinearRegression\n",
    "from sklearn.model_selection import RandomizedSearchCV\n",
    "from scipy.stats import randint\n",
    "from sklearn.ensemble import RandomForestRegressor\n",
    "from sklearn.metrics import make_scorer\n",
    "from sklearn.model_selection import cross_val_score\n",
    "from catboost import Pool, CatBoostRegressor\n",
    "import time\n",
    "import matplotlib.pyplot as plt"
   ]
  },
  {
   "cell_type": "markdown",
   "metadata": {},
   "source": [
    "## Data preparation"
   ]
  },
  {
   "cell_type": "markdown",
   "metadata": {},
   "source": [
    "### Importing Dataset"
   ]
  },
  {
   "cell_type": "code",
   "execution_count": 2,
   "metadata": {},
   "outputs": [],
   "source": [
    "nb_time_begin = time.time()"
   ]
  },
  {
   "cell_type": "code",
   "execution_count": 3,
   "metadata": {},
   "outputs": [],
   "source": [
    "df = pd.read_csv('/datasets/car_data.csv')"
   ]
  },
  {
   "cell_type": "code",
   "execution_count": 4,
   "metadata": {},
   "outputs": [
    {
     "data": {
      "text/html": [
       "<div>\n",
       "<style scoped>\n",
       "    .dataframe tbody tr th:only-of-type {\n",
       "        vertical-align: middle;\n",
       "    }\n",
       "\n",
       "    .dataframe tbody tr th {\n",
       "        vertical-align: top;\n",
       "    }\n",
       "\n",
       "    .dataframe thead th {\n",
       "        text-align: right;\n",
       "    }\n",
       "</style>\n",
       "<table border=\"1\" class=\"dataframe\">\n",
       "  <thead>\n",
       "    <tr style=\"text-align: right;\">\n",
       "      <th></th>\n",
       "      <th>DateCrawled</th>\n",
       "      <th>Price</th>\n",
       "      <th>VehicleType</th>\n",
       "      <th>RegistrationYear</th>\n",
       "      <th>Gearbox</th>\n",
       "      <th>Power</th>\n",
       "      <th>Model</th>\n",
       "      <th>Mileage</th>\n",
       "      <th>RegistrationMonth</th>\n",
       "      <th>FuelType</th>\n",
       "      <th>Brand</th>\n",
       "      <th>NotRepaired</th>\n",
       "      <th>DateCreated</th>\n",
       "      <th>NumberOfPictures</th>\n",
       "      <th>PostalCode</th>\n",
       "      <th>LastSeen</th>\n",
       "    </tr>\n",
       "  </thead>\n",
       "  <tbody>\n",
       "    <tr>\n",
       "      <th>0</th>\n",
       "      <td>24/03/2016 11:52</td>\n",
       "      <td>480</td>\n",
       "      <td>NaN</td>\n",
       "      <td>1993</td>\n",
       "      <td>manual</td>\n",
       "      <td>0</td>\n",
       "      <td>golf</td>\n",
       "      <td>150000</td>\n",
       "      <td>0</td>\n",
       "      <td>petrol</td>\n",
       "      <td>volkswagen</td>\n",
       "      <td>NaN</td>\n",
       "      <td>24/03/2016 00:00</td>\n",
       "      <td>0</td>\n",
       "      <td>70435</td>\n",
       "      <td>07/04/2016 03:16</td>\n",
       "    </tr>\n",
       "    <tr>\n",
       "      <th>1</th>\n",
       "      <td>24/03/2016 10:58</td>\n",
       "      <td>18300</td>\n",
       "      <td>coupe</td>\n",
       "      <td>2011</td>\n",
       "      <td>manual</td>\n",
       "      <td>190</td>\n",
       "      <td>NaN</td>\n",
       "      <td>125000</td>\n",
       "      <td>5</td>\n",
       "      <td>gasoline</td>\n",
       "      <td>audi</td>\n",
       "      <td>yes</td>\n",
       "      <td>24/03/2016 00:00</td>\n",
       "      <td>0</td>\n",
       "      <td>66954</td>\n",
       "      <td>07/04/2016 01:46</td>\n",
       "    </tr>\n",
       "    <tr>\n",
       "      <th>2</th>\n",
       "      <td>14/03/2016 12:52</td>\n",
       "      <td>9800</td>\n",
       "      <td>suv</td>\n",
       "      <td>2004</td>\n",
       "      <td>auto</td>\n",
       "      <td>163</td>\n",
       "      <td>grand</td>\n",
       "      <td>125000</td>\n",
       "      <td>8</td>\n",
       "      <td>gasoline</td>\n",
       "      <td>jeep</td>\n",
       "      <td>NaN</td>\n",
       "      <td>14/03/2016 00:00</td>\n",
       "      <td>0</td>\n",
       "      <td>90480</td>\n",
       "      <td>05/04/2016 12:47</td>\n",
       "    </tr>\n",
       "    <tr>\n",
       "      <th>3</th>\n",
       "      <td>17/03/2016 16:54</td>\n",
       "      <td>1500</td>\n",
       "      <td>small</td>\n",
       "      <td>2001</td>\n",
       "      <td>manual</td>\n",
       "      <td>75</td>\n",
       "      <td>golf</td>\n",
       "      <td>150000</td>\n",
       "      <td>6</td>\n",
       "      <td>petrol</td>\n",
       "      <td>volkswagen</td>\n",
       "      <td>no</td>\n",
       "      <td>17/03/2016 00:00</td>\n",
       "      <td>0</td>\n",
       "      <td>91074</td>\n",
       "      <td>17/03/2016 17:40</td>\n",
       "    </tr>\n",
       "    <tr>\n",
       "      <th>4</th>\n",
       "      <td>31/03/2016 17:25</td>\n",
       "      <td>3600</td>\n",
       "      <td>small</td>\n",
       "      <td>2008</td>\n",
       "      <td>manual</td>\n",
       "      <td>69</td>\n",
       "      <td>fabia</td>\n",
       "      <td>90000</td>\n",
       "      <td>7</td>\n",
       "      <td>gasoline</td>\n",
       "      <td>skoda</td>\n",
       "      <td>no</td>\n",
       "      <td>31/03/2016 00:00</td>\n",
       "      <td>0</td>\n",
       "      <td>60437</td>\n",
       "      <td>06/04/2016 10:17</td>\n",
       "    </tr>\n",
       "  </tbody>\n",
       "</table>\n",
       "</div>"
      ],
      "text/plain": [
       "        DateCrawled  Price VehicleType  RegistrationYear Gearbox  Power  \\\n",
       "0  24/03/2016 11:52    480         NaN              1993  manual      0   \n",
       "1  24/03/2016 10:58  18300       coupe              2011  manual    190   \n",
       "2  14/03/2016 12:52   9800         suv              2004    auto    163   \n",
       "3  17/03/2016 16:54   1500       small              2001  manual     75   \n",
       "4  31/03/2016 17:25   3600       small              2008  manual     69   \n",
       "\n",
       "   Model  Mileage  RegistrationMonth  FuelType       Brand NotRepaired  \\\n",
       "0   golf   150000                  0    petrol  volkswagen         NaN   \n",
       "1    NaN   125000                  5  gasoline        audi         yes   \n",
       "2  grand   125000                  8  gasoline        jeep         NaN   \n",
       "3   golf   150000                  6    petrol  volkswagen          no   \n",
       "4  fabia    90000                  7  gasoline       skoda          no   \n",
       "\n",
       "        DateCreated  NumberOfPictures  PostalCode          LastSeen  \n",
       "0  24/03/2016 00:00                 0       70435  07/04/2016 03:16  \n",
       "1  24/03/2016 00:00                 0       66954  07/04/2016 01:46  \n",
       "2  14/03/2016 00:00                 0       90480  05/04/2016 12:47  \n",
       "3  17/03/2016 00:00                 0       91074  17/03/2016 17:40  \n",
       "4  31/03/2016 00:00                 0       60437  06/04/2016 10:17  "
      ]
     },
     "execution_count": 4,
     "metadata": {},
     "output_type": "execute_result"
    }
   ],
   "source": [
    "df.head()"
   ]
  },
  {
   "cell_type": "code",
   "execution_count": 5,
   "metadata": {
    "scrolled": true
   },
   "outputs": [
    {
     "name": "stdout",
     "output_type": "stream",
     "text": [
      "<class 'pandas.core.frame.DataFrame'>\n",
      "RangeIndex: 354369 entries, 0 to 354368\n",
      "Data columns (total 16 columns):\n",
      " #   Column             Non-Null Count   Dtype \n",
      "---  ------             --------------   ----- \n",
      " 0   DateCrawled        354369 non-null  object\n",
      " 1   Price              354369 non-null  int64 \n",
      " 2   VehicleType        316879 non-null  object\n",
      " 3   RegistrationYear   354369 non-null  int64 \n",
      " 4   Gearbox            334536 non-null  object\n",
      " 5   Power              354369 non-null  int64 \n",
      " 6   Model              334664 non-null  object\n",
      " 7   Mileage            354369 non-null  int64 \n",
      " 8   RegistrationMonth  354369 non-null  int64 \n",
      " 9   FuelType           321474 non-null  object\n",
      " 10  Brand              354369 non-null  object\n",
      " 11  NotRepaired        283215 non-null  object\n",
      " 12  DateCreated        354369 non-null  object\n",
      " 13  NumberOfPictures   354369 non-null  int64 \n",
      " 14  PostalCode         354369 non-null  int64 \n",
      " 15  LastSeen           354369 non-null  object\n",
      "dtypes: int64(7), object(9)\n",
      "memory usage: 43.3+ MB\n"
     ]
    }
   ],
   "source": [
    "df.info()"
   ]
  },
  {
   "cell_type": "markdown",
   "metadata": {},
   "source": [
    "### Dealing with Missing Values"
   ]
  },
  {
   "cell_type": "markdown",
   "metadata": {},
   "source": [
    "There is a large, roughly 30% chunk of data missing from the 'NotRepaired' column. Since there is no way of gracefully recovering \"yes\" or \"no\" data, I will fill the missing values with \"Unknown\". "
   ]
  },
  {
   "cell_type": "code",
   "execution_count": 6,
   "metadata": {},
   "outputs": [],
   "source": [
    "df['NotRepaired'] = df['NotRepaired'].fillna('Unknown')"
   ]
  },
  {
   "cell_type": "code",
   "execution_count": 7,
   "metadata": {
    "scrolled": true
   },
   "outputs": [
    {
     "name": "stdout",
     "output_type": "stream",
     "text": [
      "<class 'pandas.core.frame.DataFrame'>\n",
      "RangeIndex: 354369 entries, 0 to 354368\n",
      "Data columns (total 16 columns):\n",
      " #   Column             Non-Null Count   Dtype \n",
      "---  ------             --------------   ----- \n",
      " 0   DateCrawled        354369 non-null  object\n",
      " 1   Price              354369 non-null  int64 \n",
      " 2   VehicleType        316879 non-null  object\n",
      " 3   RegistrationYear   354369 non-null  int64 \n",
      " 4   Gearbox            334536 non-null  object\n",
      " 5   Power              354369 non-null  int64 \n",
      " 6   Model              334664 non-null  object\n",
      " 7   Mileage            354369 non-null  int64 \n",
      " 8   RegistrationMonth  354369 non-null  int64 \n",
      " 9   FuelType           321474 non-null  object\n",
      " 10  Brand              354369 non-null  object\n",
      " 11  NotRepaired        354369 non-null  object\n",
      " 12  DateCreated        354369 non-null  object\n",
      " 13  NumberOfPictures   354369 non-null  int64 \n",
      " 14  PostalCode         354369 non-null  int64 \n",
      " 15  LastSeen           354369 non-null  object\n",
      "dtypes: int64(7), object(9)\n",
      "memory usage: 43.3+ MB\n"
     ]
    }
   ],
   "source": [
    "df.info()"
   ]
  },
  {
   "cell_type": "markdown",
   "metadata": {},
   "source": [
    "That looks better. I will try dropping the rest of the missing values. "
   ]
  },
  {
   "cell_type": "code",
   "execution_count": 8,
   "metadata": {},
   "outputs": [],
   "source": [
    "df = df.dropna()"
   ]
  },
  {
   "cell_type": "code",
   "execution_count": 9,
   "metadata": {
    "scrolled": true
   },
   "outputs": [
    {
     "name": "stdout",
     "output_type": "stream",
     "text": [
      "<class 'pandas.core.frame.DataFrame'>\n",
      "Int64Index: 284126 entries, 2 to 354368\n",
      "Data columns (total 16 columns):\n",
      " #   Column             Non-Null Count   Dtype \n",
      "---  ------             --------------   ----- \n",
      " 0   DateCrawled        284126 non-null  object\n",
      " 1   Price              284126 non-null  int64 \n",
      " 2   VehicleType        284126 non-null  object\n",
      " 3   RegistrationYear   284126 non-null  int64 \n",
      " 4   Gearbox            284126 non-null  object\n",
      " 5   Power              284126 non-null  int64 \n",
      " 6   Model              284126 non-null  object\n",
      " 7   Mileage            284126 non-null  int64 \n",
      " 8   RegistrationMonth  284126 non-null  int64 \n",
      " 9   FuelType           284126 non-null  object\n",
      " 10  Brand              284126 non-null  object\n",
      " 11  NotRepaired        284126 non-null  object\n",
      " 12  DateCreated        284126 non-null  object\n",
      " 13  NumberOfPictures   284126 non-null  int64 \n",
      " 14  PostalCode         284126 non-null  int64 \n",
      " 15  LastSeen           284126 non-null  object\n",
      "dtypes: int64(7), object(9)\n",
      "memory usage: 36.9+ MB\n"
     ]
    }
   ],
   "source": [
    "df.info()"
   ]
  },
  {
   "cell_type": "code",
   "execution_count": 10,
   "metadata": {
    "scrolled": true
   },
   "outputs": [
    {
     "data": {
      "text/html": [
       "<div>\n",
       "<style scoped>\n",
       "    .dataframe tbody tr th:only-of-type {\n",
       "        vertical-align: middle;\n",
       "    }\n",
       "\n",
       "    .dataframe tbody tr th {\n",
       "        vertical-align: top;\n",
       "    }\n",
       "\n",
       "    .dataframe thead th {\n",
       "        text-align: right;\n",
       "    }\n",
       "</style>\n",
       "<table border=\"1\" class=\"dataframe\">\n",
       "  <thead>\n",
       "    <tr style=\"text-align: right;\">\n",
       "      <th></th>\n",
       "      <th>Price</th>\n",
       "      <th>RegistrationYear</th>\n",
       "      <th>Power</th>\n",
       "      <th>Mileage</th>\n",
       "      <th>RegistrationMonth</th>\n",
       "      <th>NumberOfPictures</th>\n",
       "      <th>PostalCode</th>\n",
       "    </tr>\n",
       "  </thead>\n",
       "  <tbody>\n",
       "    <tr>\n",
       "      <th>count</th>\n",
       "      <td>284126.000000</td>\n",
       "      <td>284126.000000</td>\n",
       "      <td>284126.000000</td>\n",
       "      <td>284126.000000</td>\n",
       "      <td>284126.000000</td>\n",
       "      <td>284126.0</td>\n",
       "      <td>284126.000000</td>\n",
       "    </tr>\n",
       "    <tr>\n",
       "      <th>mean</th>\n",
       "      <td>4847.265516</td>\n",
       "      <td>2002.567861</td>\n",
       "      <td>117.727213</td>\n",
       "      <td>128261.651521</td>\n",
       "      <td>6.071577</td>\n",
       "      <td>0.0</td>\n",
       "      <td>51094.901026</td>\n",
       "    </tr>\n",
       "    <tr>\n",
       "      <th>std</th>\n",
       "      <td>4637.056831</td>\n",
       "      <td>6.243808</td>\n",
       "      <td>169.107292</td>\n",
       "      <td>36739.971043</td>\n",
       "      <td>3.548155</td>\n",
       "      <td>0.0</td>\n",
       "      <td>25775.683653</td>\n",
       "    </tr>\n",
       "    <tr>\n",
       "      <th>min</th>\n",
       "      <td>0.000000</td>\n",
       "      <td>1910.000000</td>\n",
       "      <td>0.000000</td>\n",
       "      <td>5000.000000</td>\n",
       "      <td>0.000000</td>\n",
       "      <td>0.0</td>\n",
       "      <td>1067.000000</td>\n",
       "    </tr>\n",
       "    <tr>\n",
       "      <th>25%</th>\n",
       "      <td>1300.000000</td>\n",
       "      <td>1999.000000</td>\n",
       "      <td>75.000000</td>\n",
       "      <td>125000.000000</td>\n",
       "      <td>3.000000</td>\n",
       "      <td>0.0</td>\n",
       "      <td>30851.000000</td>\n",
       "    </tr>\n",
       "    <tr>\n",
       "      <th>50%</th>\n",
       "      <td>3199.000000</td>\n",
       "      <td>2003.000000</td>\n",
       "      <td>109.000000</td>\n",
       "      <td>150000.000000</td>\n",
       "      <td>6.000000</td>\n",
       "      <td>0.0</td>\n",
       "      <td>50170.000000</td>\n",
       "    </tr>\n",
       "    <tr>\n",
       "      <th>75%</th>\n",
       "      <td>6999.000000</td>\n",
       "      <td>2007.000000</td>\n",
       "      <td>147.000000</td>\n",
       "      <td>150000.000000</td>\n",
       "      <td>9.000000</td>\n",
       "      <td>0.0</td>\n",
       "      <td>71706.000000</td>\n",
       "    </tr>\n",
       "    <tr>\n",
       "      <th>max</th>\n",
       "      <td>20000.000000</td>\n",
       "      <td>2018.000000</td>\n",
       "      <td>20000.000000</td>\n",
       "      <td>150000.000000</td>\n",
       "      <td>12.000000</td>\n",
       "      <td>0.0</td>\n",
       "      <td>99998.000000</td>\n",
       "    </tr>\n",
       "  </tbody>\n",
       "</table>\n",
       "</div>"
      ],
      "text/plain": [
       "               Price  RegistrationYear          Power        Mileage  \\\n",
       "count  284126.000000     284126.000000  284126.000000  284126.000000   \n",
       "mean     4847.265516       2002.567861     117.727213  128261.651521   \n",
       "std      4637.056831          6.243808     169.107292   36739.971043   \n",
       "min         0.000000       1910.000000       0.000000    5000.000000   \n",
       "25%      1300.000000       1999.000000      75.000000  125000.000000   \n",
       "50%      3199.000000       2003.000000     109.000000  150000.000000   \n",
       "75%      6999.000000       2007.000000     147.000000  150000.000000   \n",
       "max     20000.000000       2018.000000   20000.000000  150000.000000   \n",
       "\n",
       "       RegistrationMonth  NumberOfPictures     PostalCode  \n",
       "count      284126.000000          284126.0  284126.000000  \n",
       "mean            6.071577               0.0   51094.901026  \n",
       "std             3.548155               0.0   25775.683653  \n",
       "min             0.000000               0.0    1067.000000  \n",
       "25%             3.000000               0.0   30851.000000  \n",
       "50%             6.000000               0.0   50170.000000  \n",
       "75%             9.000000               0.0   71706.000000  \n",
       "max            12.000000               0.0   99998.000000  "
      ]
     },
     "execution_count": 10,
     "metadata": {},
     "output_type": "execute_result"
    }
   ],
   "source": [
    "df.describe()"
   ]
  },
  {
   "cell_type": "markdown",
   "metadata": {},
   "source": [
    "Looks like we have some additional clean-up that needs to be done.\n",
    "\n",
    "* Power has values of 0, which doesn't make sense. A working, sell-able vehicle would not have 0 horsepower.\n",
    "* There are some instances of Price being 0 - it seems unlikely that someone would give a car away for free and still record it.\n",
    "* NumberOfPictures is 0 for every single value - this is a useless column, it should be dropped. \n",
    "* RegistrationMonth is an int and will be included in the calculations - higher month doesn't mean anything, this should be removed.\n",
    "* Postal code is an int and will be included in the calculations - this is useless as well. \n",
    "* RegistrationYear could be dropped in favor of a better indicator, such as 'VehicleAge', by subtracting RegistrationYear from 2024"
   ]
  },
  {
   "cell_type": "code",
   "execution_count": 11,
   "metadata": {},
   "outputs": [
    {
     "name": "stdout",
     "output_type": "stream",
     "text": [
      "5041\n"
     ]
    }
   ],
   "source": [
    "# calculating how many instances of Price = 0 there are\n",
    "print((df['Price'] == 0).sum())"
   ]
  },
  {
   "cell_type": "code",
   "execution_count": 12,
   "metadata": {},
   "outputs": [],
   "source": [
    "df = df[df['Price'] != 0]"
   ]
  },
  {
   "cell_type": "code",
   "execution_count": 13,
   "metadata": {},
   "outputs": [
    {
     "name": "stdout",
     "output_type": "stream",
     "text": [
      "0\n"
     ]
    }
   ],
   "source": [
    "# calculating how many instances of Price = 0 there are\n",
    "print((df['Price'] == 0).sum())"
   ]
  },
  {
   "cell_type": "code",
   "execution_count": 14,
   "metadata": {},
   "outputs": [
    {
     "name": "stdout",
     "output_type": "stream",
     "text": [
      "15280\n"
     ]
    }
   ],
   "source": [
    "# calculating how many instances of Power < 10 there are\n",
    "print((df['Power'] < 10).sum())"
   ]
  },
  {
   "cell_type": "markdown",
   "metadata": {},
   "source": [
    "15000 instances of 0 horsepower would be a pretty big chunk to drop again, but with the way HP can vary between brands and models, it is likely smarter to drop these, if the end goal is an accurate model. "
   ]
  },
  {
   "cell_type": "code",
   "execution_count": 15,
   "metadata": {},
   "outputs": [],
   "source": [
    "df = df[df['Power'] >= 10]"
   ]
  },
  {
   "cell_type": "code",
   "execution_count": 16,
   "metadata": {},
   "outputs": [
    {
     "name": "stdout",
     "output_type": "stream",
     "text": [
      "0\n"
     ]
    }
   ],
   "source": [
    "# calculating how many instances of Power < 10 there are\n",
    "print((df['Power'] < 10).sum())"
   ]
  },
  {
   "cell_type": "code",
   "execution_count": 17,
   "metadata": {},
   "outputs": [],
   "source": [
    "# Creating VehicleAge column\n",
    "\n",
    "df['VehicleAge'] = 2024 - df['RegistrationYear']"
   ]
  },
  {
   "cell_type": "code",
   "execution_count": 18,
   "metadata": {},
   "outputs": [
    {
     "data": {
      "text/html": [
       "<div>\n",
       "<style scoped>\n",
       "    .dataframe tbody tr th:only-of-type {\n",
       "        vertical-align: middle;\n",
       "    }\n",
       "\n",
       "    .dataframe tbody tr th {\n",
       "        vertical-align: top;\n",
       "    }\n",
       "\n",
       "    .dataframe thead th {\n",
       "        text-align: right;\n",
       "    }\n",
       "</style>\n",
       "<table border=\"1\" class=\"dataframe\">\n",
       "  <thead>\n",
       "    <tr style=\"text-align: right;\">\n",
       "      <th></th>\n",
       "      <th>DateCrawled</th>\n",
       "      <th>Price</th>\n",
       "      <th>VehicleType</th>\n",
       "      <th>RegistrationYear</th>\n",
       "      <th>Gearbox</th>\n",
       "      <th>Power</th>\n",
       "      <th>Model</th>\n",
       "      <th>Mileage</th>\n",
       "      <th>RegistrationMonth</th>\n",
       "      <th>FuelType</th>\n",
       "      <th>Brand</th>\n",
       "      <th>NotRepaired</th>\n",
       "      <th>DateCreated</th>\n",
       "      <th>NumberOfPictures</th>\n",
       "      <th>PostalCode</th>\n",
       "      <th>LastSeen</th>\n",
       "      <th>VehicleAge</th>\n",
       "    </tr>\n",
       "  </thead>\n",
       "  <tbody>\n",
       "    <tr>\n",
       "      <th>2</th>\n",
       "      <td>14/03/2016 12:52</td>\n",
       "      <td>9800</td>\n",
       "      <td>suv</td>\n",
       "      <td>2004</td>\n",
       "      <td>auto</td>\n",
       "      <td>163</td>\n",
       "      <td>grand</td>\n",
       "      <td>125000</td>\n",
       "      <td>8</td>\n",
       "      <td>gasoline</td>\n",
       "      <td>jeep</td>\n",
       "      <td>Unknown</td>\n",
       "      <td>14/03/2016 00:00</td>\n",
       "      <td>0</td>\n",
       "      <td>90480</td>\n",
       "      <td>05/04/2016 12:47</td>\n",
       "      <td>20</td>\n",
       "    </tr>\n",
       "    <tr>\n",
       "      <th>3</th>\n",
       "      <td>17/03/2016 16:54</td>\n",
       "      <td>1500</td>\n",
       "      <td>small</td>\n",
       "      <td>2001</td>\n",
       "      <td>manual</td>\n",
       "      <td>75</td>\n",
       "      <td>golf</td>\n",
       "      <td>150000</td>\n",
       "      <td>6</td>\n",
       "      <td>petrol</td>\n",
       "      <td>volkswagen</td>\n",
       "      <td>no</td>\n",
       "      <td>17/03/2016 00:00</td>\n",
       "      <td>0</td>\n",
       "      <td>91074</td>\n",
       "      <td>17/03/2016 17:40</td>\n",
       "      <td>23</td>\n",
       "    </tr>\n",
       "    <tr>\n",
       "      <th>4</th>\n",
       "      <td>31/03/2016 17:25</td>\n",
       "      <td>3600</td>\n",
       "      <td>small</td>\n",
       "      <td>2008</td>\n",
       "      <td>manual</td>\n",
       "      <td>69</td>\n",
       "      <td>fabia</td>\n",
       "      <td>90000</td>\n",
       "      <td>7</td>\n",
       "      <td>gasoline</td>\n",
       "      <td>skoda</td>\n",
       "      <td>no</td>\n",
       "      <td>31/03/2016 00:00</td>\n",
       "      <td>0</td>\n",
       "      <td>60437</td>\n",
       "      <td>06/04/2016 10:17</td>\n",
       "      <td>16</td>\n",
       "    </tr>\n",
       "    <tr>\n",
       "      <th>5</th>\n",
       "      <td>04/04/2016 17:36</td>\n",
       "      <td>650</td>\n",
       "      <td>sedan</td>\n",
       "      <td>1995</td>\n",
       "      <td>manual</td>\n",
       "      <td>102</td>\n",
       "      <td>3er</td>\n",
       "      <td>150000</td>\n",
       "      <td>10</td>\n",
       "      <td>petrol</td>\n",
       "      <td>bmw</td>\n",
       "      <td>yes</td>\n",
       "      <td>04/04/2016 00:00</td>\n",
       "      <td>0</td>\n",
       "      <td>33775</td>\n",
       "      <td>06/04/2016 19:17</td>\n",
       "      <td>29</td>\n",
       "    </tr>\n",
       "    <tr>\n",
       "      <th>6</th>\n",
       "      <td>01/04/2016 20:48</td>\n",
       "      <td>2200</td>\n",
       "      <td>convertible</td>\n",
       "      <td>2004</td>\n",
       "      <td>manual</td>\n",
       "      <td>109</td>\n",
       "      <td>2_reihe</td>\n",
       "      <td>150000</td>\n",
       "      <td>8</td>\n",
       "      <td>petrol</td>\n",
       "      <td>peugeot</td>\n",
       "      <td>no</td>\n",
       "      <td>01/04/2016 00:00</td>\n",
       "      <td>0</td>\n",
       "      <td>67112</td>\n",
       "      <td>05/04/2016 18:18</td>\n",
       "      <td>20</td>\n",
       "    </tr>\n",
       "  </tbody>\n",
       "</table>\n",
       "</div>"
      ],
      "text/plain": [
       "        DateCrawled  Price  VehicleType  RegistrationYear Gearbox  Power  \\\n",
       "2  14/03/2016 12:52   9800          suv              2004    auto    163   \n",
       "3  17/03/2016 16:54   1500        small              2001  manual     75   \n",
       "4  31/03/2016 17:25   3600        small              2008  manual     69   \n",
       "5  04/04/2016 17:36    650        sedan              1995  manual    102   \n",
       "6  01/04/2016 20:48   2200  convertible              2004  manual    109   \n",
       "\n",
       "     Model  Mileage  RegistrationMonth  FuelType       Brand NotRepaired  \\\n",
       "2    grand   125000                  8  gasoline        jeep     Unknown   \n",
       "3     golf   150000                  6    petrol  volkswagen          no   \n",
       "4    fabia    90000                  7  gasoline       skoda          no   \n",
       "5      3er   150000                 10    petrol         bmw         yes   \n",
       "6  2_reihe   150000                  8    petrol     peugeot          no   \n",
       "\n",
       "        DateCreated  NumberOfPictures  PostalCode          LastSeen  \\\n",
       "2  14/03/2016 00:00                 0       90480  05/04/2016 12:47   \n",
       "3  17/03/2016 00:00                 0       91074  17/03/2016 17:40   \n",
       "4  31/03/2016 00:00                 0       60437  06/04/2016 10:17   \n",
       "5  04/04/2016 00:00                 0       33775  06/04/2016 19:17   \n",
       "6  01/04/2016 00:00                 0       67112  05/04/2016 18:18   \n",
       "\n",
       "   VehicleAge  \n",
       "2          20  \n",
       "3          23  \n",
       "4          16  \n",
       "5          29  \n",
       "6          20  "
      ]
     },
     "execution_count": 18,
     "metadata": {},
     "output_type": "execute_result"
    }
   ],
   "source": [
    "df.head()"
   ]
  },
  {
   "cell_type": "code",
   "execution_count": 19,
   "metadata": {},
   "outputs": [],
   "source": [
    "# dropping RegistrationYear, RegistrationMonth, NumberOfPictures, PostalCode \n",
    "\n",
    "nonsense_cols = ['RegistrationYear', 'RegistrationMonth', 'NumberOfPictures', 'PostalCode']\n",
    "\n",
    "df = df.drop(nonsense_cols, axis=1)"
   ]
  },
  {
   "cell_type": "code",
   "execution_count": 20,
   "metadata": {},
   "outputs": [
    {
     "data": {
      "text/html": [
       "<div>\n",
       "<style scoped>\n",
       "    .dataframe tbody tr th:only-of-type {\n",
       "        vertical-align: middle;\n",
       "    }\n",
       "\n",
       "    .dataframe tbody tr th {\n",
       "        vertical-align: top;\n",
       "    }\n",
       "\n",
       "    .dataframe thead th {\n",
       "        text-align: right;\n",
       "    }\n",
       "</style>\n",
       "<table border=\"1\" class=\"dataframe\">\n",
       "  <thead>\n",
       "    <tr style=\"text-align: right;\">\n",
       "      <th></th>\n",
       "      <th>Price</th>\n",
       "      <th>Power</th>\n",
       "      <th>Mileage</th>\n",
       "      <th>VehicleAge</th>\n",
       "    </tr>\n",
       "  </thead>\n",
       "  <tbody>\n",
       "    <tr>\n",
       "      <th>count</th>\n",
       "      <td>263805.000000</td>\n",
       "      <td>263805.000000</td>\n",
       "      <td>263805.000000</td>\n",
       "      <td>263805.000000</td>\n",
       "    </tr>\n",
       "    <tr>\n",
       "      <th>mean</th>\n",
       "      <td>5069.660723</td>\n",
       "      <td>124.771198</td>\n",
       "      <td>127902.238396</td>\n",
       "      <td>21.195375</td>\n",
       "    </tr>\n",
       "    <tr>\n",
       "      <th>std</th>\n",
       "      <td>4664.487570</td>\n",
       "      <td>169.729979</td>\n",
       "      <td>36721.136023</td>\n",
       "      <td>6.134571</td>\n",
       "    </tr>\n",
       "    <tr>\n",
       "      <th>min</th>\n",
       "      <td>1.000000</td>\n",
       "      <td>10.000000</td>\n",
       "      <td>5000.000000</td>\n",
       "      <td>6.000000</td>\n",
       "    </tr>\n",
       "    <tr>\n",
       "      <th>25%</th>\n",
       "      <td>1499.000000</td>\n",
       "      <td>80.000000</td>\n",
       "      <td>125000.000000</td>\n",
       "      <td>17.000000</td>\n",
       "    </tr>\n",
       "    <tr>\n",
       "      <th>50%</th>\n",
       "      <td>3490.000000</td>\n",
       "      <td>115.000000</td>\n",
       "      <td>150000.000000</td>\n",
       "      <td>21.000000</td>\n",
       "    </tr>\n",
       "    <tr>\n",
       "      <th>75%</th>\n",
       "      <td>7399.000000</td>\n",
       "      <td>150.000000</td>\n",
       "      <td>150000.000000</td>\n",
       "      <td>25.000000</td>\n",
       "    </tr>\n",
       "    <tr>\n",
       "      <th>max</th>\n",
       "      <td>20000.000000</td>\n",
       "      <td>20000.000000</td>\n",
       "      <td>150000.000000</td>\n",
       "      <td>114.000000</td>\n",
       "    </tr>\n",
       "  </tbody>\n",
       "</table>\n",
       "</div>"
      ],
      "text/plain": [
       "               Price          Power        Mileage     VehicleAge\n",
       "count  263805.000000  263805.000000  263805.000000  263805.000000\n",
       "mean     5069.660723     124.771198  127902.238396      21.195375\n",
       "std      4664.487570     169.729979   36721.136023       6.134571\n",
       "min         1.000000      10.000000    5000.000000       6.000000\n",
       "25%      1499.000000      80.000000  125000.000000      17.000000\n",
       "50%      3490.000000     115.000000  150000.000000      21.000000\n",
       "75%      7399.000000     150.000000  150000.000000      25.000000\n",
       "max     20000.000000   20000.000000  150000.000000     114.000000"
      ]
     },
     "execution_count": 20,
     "metadata": {},
     "output_type": "execute_result"
    }
   ],
   "source": [
    "df.describe()"
   ]
  },
  {
   "cell_type": "code",
   "execution_count": 21,
   "metadata": {},
   "outputs": [],
   "source": [
    "# dropping additional columns with dates, as they don't help our modeling\n",
    "\n",
    "df = df.drop(['DateCrawled', 'DateCreated', 'LastSeen'], axis=1)"
   ]
  },
  {
   "cell_type": "markdown",
   "metadata": {},
   "source": [
    "Left with 263k values for modeling - that should be sufficient."
   ]
  },
  {
   "cell_type": "markdown",
   "metadata": {},
   "source": [
    "### Splitting into Training and Testing sets"
   ]
  },
  {
   "cell_type": "code",
   "execution_count": 22,
   "metadata": {},
   "outputs": [],
   "source": [
    "# Defining features and targets for training\n",
    "\n",
    "features = df.drop('Price', axis=1)\n",
    "target = df['Price']"
   ]
  },
  {
   "cell_type": "code",
   "execution_count": 23,
   "metadata": {},
   "outputs": [],
   "source": [
    "# splitting initial train/test set\n",
    "X_train, X_test, y_train, y_test = train_test_split(features, target, test_size=0.3, random_state=1)"
   ]
  },
  {
   "cell_type": "code",
   "execution_count": 24,
   "metadata": {},
   "outputs": [],
   "source": [
    "# splitting train set into a train/valid set\n",
    "X_train, X_val, y_train, y_val = train_test_split(X_train, y_train, test_size=0.25, random_state=1)"
   ]
  },
  {
   "cell_type": "code",
   "execution_count": 25,
   "metadata": {},
   "outputs": [
    {
     "name": "stdout",
     "output_type": "stream",
     "text": [
      "(138497, 9)\n",
      "(138497,)\n",
      "(46166, 9)\n",
      "(46166,)\n",
      "(79142, 9)\n",
      "(79142,)\n"
     ]
    }
   ],
   "source": [
    "print(X_train.shape)\n",
    "print(y_train.shape)\n",
    "print(X_val.shape)\n",
    "print(y_val.shape)\n",
    "print(X_test.shape)\n",
    "print(y_test.shape)"
   ]
  },
  {
   "cell_type": "markdown",
   "metadata": {},
   "source": [
    "## Model training"
   ]
  },
  {
   "cell_type": "code",
   "execution_count": 26,
   "metadata": {},
   "outputs": [],
   "source": [
    "# initializing some dictionaries for model evaluation later\n",
    "\n",
    "rmse_scores_dict = {'Lreg':[], 'RF':[], 'LGBM':[], 'XGB':[], 'CatBoost':[]}\n",
    "training_time_dict = {'Lreg':[], 'RF':[], 'LGBM':[], 'XGB':[], 'CatBoost':[]}\n",
    "predict_time_dict = {'Lreg':[], 'RF':[], 'LGBM':[], 'XGB':[], 'CatBoost':[]}"
   ]
  },
  {
   "cell_type": "markdown",
   "metadata": {},
   "source": [
    "### RMSE Scoring Function"
   ]
  },
  {
   "cell_type": "code",
   "execution_count": 27,
   "metadata": {},
   "outputs": [],
   "source": [
    "# defining a scoring function, to take predictions and targets, and return RMSE\n",
    "def rmse_score(y_true, y_pred):\n",
    "    return np.sqrt(mean_squared_error(y_true, y_pred))"
   ]
  },
  {
   "cell_type": "code",
   "execution_count": 28,
   "metadata": {},
   "outputs": [],
   "source": [
    "# creating a scorer object to use the final_sMAPE function to score\n",
    "\n",
    "rmse = make_scorer(rmse_score, greater_is_better=False)"
   ]
  },
  {
   "cell_type": "markdown",
   "metadata": {},
   "source": [
    "### One-Hot Encoding"
   ]
  },
  {
   "cell_type": "code",
   "execution_count": 29,
   "metadata": {},
   "outputs": [],
   "source": [
    "# One-Hot encoding the data for regression\n",
    "\n",
    "df_ohe = pd.get_dummies(df, drop_first=True)"
   ]
  },
  {
   "cell_type": "code",
   "execution_count": 30,
   "metadata": {},
   "outputs": [],
   "source": [
    "features_ohe = df_ohe.drop('Price', axis=1)\n",
    "target_ohe = df_ohe['Price']"
   ]
  },
  {
   "cell_type": "code",
   "execution_count": 31,
   "metadata": {},
   "outputs": [],
   "source": [
    "# splitting initial train/test set\n",
    "X_train_ohe, X_test_ohe, y_train_ohe, y_test_ohe = train_test_split(features_ohe, target_ohe, test_size=0.3, random_state=1)\n",
    "\n",
    "# splitting train set into a train/valid set\n",
    "X_train_ohe, X_val_ohe, y_train_ohe, y_val_ohe = train_test_split(X_train_ohe, y_train_ohe, test_size=0.25, random_state=1)"
   ]
  },
  {
   "cell_type": "code",
   "execution_count": 32,
   "metadata": {},
   "outputs": [
    {
     "data": {
      "text/plain": [
       "'X_train_ohe shape:'"
      ]
     },
     "metadata": {},
     "output_type": "display_data"
    },
    {
     "data": {
      "text/plain": [
       "(138497, 305)"
      ]
     },
     "metadata": {},
     "output_type": "display_data"
    },
    {
     "data": {
      "text/plain": [
       "'y_train_ohe shape:'"
      ]
     },
     "metadata": {},
     "output_type": "display_data"
    },
    {
     "data": {
      "text/plain": [
       "(138497,)"
      ]
     },
     "metadata": {},
     "output_type": "display_data"
    },
    {
     "data": {
      "text/plain": [
       "'X_val_ohe shape:'"
      ]
     },
     "metadata": {},
     "output_type": "display_data"
    },
    {
     "data": {
      "text/plain": [
       "(138497, 305)"
      ]
     },
     "metadata": {},
     "output_type": "display_data"
    },
    {
     "data": {
      "text/plain": [
       "'y_val_ohe shape:'"
      ]
     },
     "metadata": {},
     "output_type": "display_data"
    },
    {
     "data": {
      "text/plain": [
       "(138497,)"
      ]
     },
     "metadata": {},
     "output_type": "display_data"
    },
    {
     "data": {
      "text/plain": [
       "'X_test_ohe shape:'"
      ]
     },
     "metadata": {},
     "output_type": "display_data"
    },
    {
     "data": {
      "text/plain": [
       "(79142, 305)"
      ]
     },
     "metadata": {},
     "output_type": "display_data"
    },
    {
     "data": {
      "text/plain": [
       "'y_test_ohe shape:'"
      ]
     },
     "metadata": {},
     "output_type": "display_data"
    },
    {
     "data": {
      "text/plain": [
       "(79142,)"
      ]
     },
     "metadata": {},
     "output_type": "display_data"
    }
   ],
   "source": [
    "display('X_train_ohe shape:', X_train_ohe.shape)\n",
    "display('y_train_ohe shape:', y_train_ohe.shape)\n",
    "display('X_val_ohe shape:', X_train_ohe.shape)\n",
    "display('y_val_ohe shape:', y_train_ohe.shape)\n",
    "display('X_test_ohe shape:', X_test_ohe.shape)\n",
    "display('y_test_ohe shape:', y_test_ohe.shape)"
   ]
  },
  {
   "cell_type": "markdown",
   "metadata": {},
   "source": [
    "### Linear Regression"
   ]
  },
  {
   "cell_type": "markdown",
   "metadata": {},
   "source": [
    "Beginning with Linear Regression to have as a baseline comparison to the future models. If our gradient boosted models have an RMSE score worse than the LR model, then we know something is incorrect and should be investigated."
   ]
  },
  {
   "cell_type": "code",
   "execution_count": 33,
   "metadata": {},
   "outputs": [
    {
     "name": "stdout",
     "output_type": "stream",
     "text": [
      "RMSE Score of Linear Regression is: 2640.883611962878\n"
     ]
    }
   ],
   "source": [
    "start_time = time.time()\n",
    "\n",
    "lreg = LinearRegression().fit(X_train_ohe, y_train_ohe)\n",
    "\n",
    "end_time = time.time()\n",
    "lreg_train_time = end_time - start_time\n",
    "\n",
    "start_time = time.time()\n",
    "\n",
    "lreg_preds = lreg.predict(X_test_ohe)\n",
    "\n",
    "end_time = time.time()\n",
    "lreg_pred_time = end_time - start_time\n",
    "\n",
    "lreg_rmse = rmse_score(y_test_ohe, lreg_preds)\n",
    "\n",
    "print(f'RMSE Score of Linear Regression is: {lreg_rmse}')\n",
    "\n",
    "rmse_scores_dict['Lreg'].append(lreg_rmse)\n",
    "training_time_dict['Lreg'].append(lreg_train_time)\n",
    "predict_time_dict ['Lreg'].append(lreg_pred_time)"
   ]
  },
  {
   "cell_type": "markdown",
   "metadata": {},
   "source": [
    "That is quite a high RMSE value. Linear Regression does not seem to do very well for this task. But now we have a baseline for future models to compare to."
   ]
  },
  {
   "cell_type": "markdown",
   "metadata": {},
   "source": [
    "### Random Forest Regressor"
   ]
  },
  {
   "cell_type": "code",
   "execution_count": 34,
   "metadata": {
    "scrolled": true
   },
   "outputs": [
    {
     "name": "stdout",
     "output_type": "stream",
     "text": [
      "Best parameters found:  {'max_depth': 5, 'min_samples_leaf': 2, 'min_samples_split': 3, 'n_estimators': 9}\n",
      "Best score found:  -2309.244147825318\n",
      "CPU times: user 2min 41s, sys: 5.23 s, total: 2min 47s\n",
      "Wall time: 2min 48s\n"
     ]
    }
   ],
   "source": [
    "%%time\n",
    "# using RandomizedSearchCV to optimize hyperparameters \n",
    "\n",
    "\n",
    "\n",
    "param_dist = {\n",
    "    'n_estimators': randint(2, 10),\n",
    "    'max_depth': randint(2, 6),\n",
    "    'min_samples_split': randint(2, 5),\n",
    "    'min_samples_leaf': randint(1, 4)\n",
    "}\n",
    "\n",
    "rf = RandomForestRegressor()\n",
    "\n",
    "rf_search = RandomizedSearchCV(rf, param_distributions = param_dist, n_iter=20, cv=3,\n",
    "                              random_state=1, scoring=rmse)\n",
    "start_time = time.time()\n",
    "\n",
    "rf_search.fit(X_train_ohe, y_train_ohe)\n",
    "\n",
    "end_time = time.time()\n",
    "\n",
    "rf_train_time = end_time - start_time\n",
    "\n",
    "\n",
    "# Get the best parameters\n",
    "print(\"Best parameters found: \", rf_search.best_params_)\n",
    "\n",
    "# Get the best score\n",
    "print(\"Best score found: \", rf_search.best_score_)\n"
   ]
  },
  {
   "cell_type": "code",
   "execution_count": 35,
   "metadata": {},
   "outputs": [
    {
     "name": "stdout",
     "output_type": "stream",
     "text": [
      "Tuned Random Forest with test data RMSE: 2320.954768994983\n"
     ]
    }
   ],
   "source": [
    "best_rf = rf_search.best_estimator_\n",
    "\n",
    "start_time = time.time()\n",
    "\n",
    "y_pred_rf = best_rf.predict(X_test_ohe)\n",
    "\n",
    "end_time = time.time()\n",
    "\n",
    "rf_pred_time = end_time - start_time\n",
    "\n",
    "rf_score = rmse_score(y_test, y_pred_rf)\n",
    "\n",
    "print(\"Tuned Random Forest with test data RMSE:\", rf_score)\n",
    "\n",
    "rmse_scores_dict['RF'].append(rf_score)\n",
    "training_time_dict['RF'].append(rf_train_time)\n",
    "predict_time_dict ['RF'].append(rf_pred_time)"
   ]
  },
  {
   "cell_type": "markdown",
   "metadata": {},
   "source": [
    "Better than the baseline model by over 300 Euros, that's a start. We'll check some boosting models next. "
   ]
  },
  {
   "cell_type": "markdown",
   "metadata": {},
   "source": [
    "### LightGBM"
   ]
  },
  {
   "cell_type": "code",
   "execution_count": 36,
   "metadata": {},
   "outputs": [],
   "source": [
    "categoricals = ['VehicleType', 'Gearbox', 'Model', 'FuelType', 'Brand', 'NotRepaired']\n",
    "\n",
    "# copying the X_train and X_test datasets to not edit them directly\n",
    "X_train_cat = X_train.copy()\n",
    "X_val_cat = X_val.copy()\n",
    "X_test_cat = X_test.copy()\n",
    "\n",
    "X_train_cat[categoricals] = X_train[categoricals].astype('category')\n",
    "X_val_cat[categoricals] = X_val[categoricals].astype('category')\n",
    "X_test_cat[categoricals] = X_test[categoricals].astype('category')"
   ]
  },
  {
   "cell_type": "code",
   "execution_count": 37,
   "metadata": {},
   "outputs": [],
   "source": [
    "# loading features into LightGBM dataset\n",
    "train_data = lgb.Dataset(X_train_cat, label=y_train, categorical_feature=categoricals, free_raw_data=False)\n",
    "val_data = lgb.Dataset(X_val_cat, label=y_val, categorical_feature=categoricals, free_raw_data=False)\n",
    "test_data = lgb.Dataset(X_test_cat, label=y_test, categorical_feature=categoricals, free_raw_data=False)"
   ]
  },
  {
   "cell_type": "code",
   "execution_count": 38,
   "metadata": {
    "scrolled": false
   },
   "outputs": [
    {
     "name": "stderr",
     "output_type": "stream",
     "text": [
      "/opt/conda/lib/python3.9/site-packages/lightgbm/basic.py:2065: UserWarning: Using categorical_feature in Dataset.\n",
      "  _log_warning('Using categorical_feature in Dataset.')\n"
     ]
    },
    {
     "name": "stdout",
     "output_type": "stream",
     "text": [
      "[LightGBM] [Warning] Auto-choosing row-wise multi-threading, the overhead of testing was 0.004431 seconds.\n",
      "You can set `force_row_wise=true` to remove the overhead.\n",
      "And if memory is not enough, you can set `force_col_wise=true`.\n",
      "[LightGBM] [Info] Total Bins 647\n",
      "[LightGBM] [Info] Number of data points in the train set: 138497, number of used features: 9\n",
      "[LightGBM] [Info] Start training from score 5076.742009\n",
      "Training until validation scores don't improve for 10 rounds\n"
     ]
    },
    {
     "name": "stderr",
     "output_type": "stream",
     "text": [
      "/opt/conda/lib/python3.9/site-packages/lightgbm/basic.py:1780: UserWarning: Overriding the parameters from Reference Dataset.\n",
      "  _log_warning('Overriding the parameters from Reference Dataset.')\n",
      "/opt/conda/lib/python3.9/site-packages/lightgbm/basic.py:1513: UserWarning: categorical_column in param dict is overridden.\n",
      "  _log_warning(f'{cat_alias} in param dict is overridden.')\n"
     ]
    },
    {
     "name": "stdout",
     "output_type": "stream",
     "text": [
      "Early stopping, best iteration is:\n",
      "[593]\tvalid_0's rmse: 1543.79\n",
      "CPU times: user 16.2 s, sys: 176 ms, total: 16.4 s\n",
      "Wall time: 16.6 s\n"
     ]
    }
   ],
   "source": [
    "%%time\n",
    "params = {'metric': 'rmse',\n",
    "         'seed': 1}\n",
    "\n",
    "callbacks = [lgb.early_stopping(10, verbose=True), lgb.log_evaluation(period=-1)]\n",
    "\n",
    "num_round = 1000\n",
    "\n",
    "gbm = lgb.train(params, train_data, num_round, valid_sets=[val_data], callbacks=callbacks)"
   ]
  },
  {
   "cell_type": "code",
   "execution_count": 39,
   "metadata": {},
   "outputs": [
    {
     "name": "stdout",
     "output_type": "stream",
     "text": [
      "[LightGBM] [Warning] Auto-choosing row-wise multi-threading, the overhead of testing was 0.010088 seconds.\n",
      "You can set `force_row_wise=true` to remove the overhead.\n",
      "And if memory is not enough, you can set `force_col_wise=true`.\n",
      "[LightGBM] [Info] Total Bins 647\n",
      "[LightGBM] [Info] Number of data points in the train set: 138497, number of used features: 9\n",
      "[LightGBM] [Info] Start training from score 5076.742009\n",
      "Early stopping, best iteration is:\n",
      "[593]\tvalid_0's rmse: 1543.79\n",
      "CPU times: user 13.1 s, sys: 90 ms, total: 13.2 s\n",
      "Wall time: 13.4 s\n"
     ]
    }
   ],
   "source": [
    "%%time\n",
    "# lowering learning rate and increasing boosting rounds to increase accuracy\n",
    "params = {'metric': 'rmse',\n",
    "          'learning_rate': 0.05,\n",
    "          'seed': 1}\n",
    "\n",
    "num_round2 = 2000\n",
    "\n",
    "start_time = time.time()\n",
    "\n",
    "gbm2 = lgb.train(params, train_data, num_round2, valid_sets=[val_data], callbacks=callbacks)\n",
    "\n",
    "end_time = time.time()\n",
    "\n",
    "gbm_train_time = end_time - start_time"
   ]
  },
  {
   "cell_type": "code",
   "execution_count": 40,
   "metadata": {},
   "outputs": [
    {
     "name": "stdout",
     "output_type": "stream",
     "text": [
      "Tuned LightGBM with test data RMSE: 1522.86437831724\n"
     ]
    }
   ],
   "source": [
    "start_time = time.time()\n",
    "\n",
    "y_pred_gbm = gbm2.predict(X_test_cat)\n",
    "\n",
    "end_time = time.time()\n",
    "\n",
    "gbm_pred_time = end_time - start_time\n",
    "\n",
    "gbm_rmse_score = rmse_score(y_test, y_pred_gbm)\n",
    "\n",
    "print(\"Tuned LightGBM with test data RMSE:\", gbm_rmse_score)\n",
    "\n",
    "rmse_scores_dict['LGBM'].append(gbm_rmse_score)\n",
    "training_time_dict['LGBM'].append(gbm_train_time)\n",
    "predict_time_dict ['LGBM'].append(gbm_pred_time)"
   ]
  },
  {
   "cell_type": "markdown",
   "metadata": {},
   "source": [
    "Stopped at the same iteration with the same RMSE as the model above. Seems the adjustment in learning rate didn't affect it. Good place to stop. This is significantly better than the random forest model. The first attempt at gradiant boosting lowers the RMSE by nearly 33%. Let's try a couple different gradiant boosting libraries and compare. "
   ]
  },
  {
   "cell_type": "markdown",
   "metadata": {},
   "source": [
    "### XGBoost"
   ]
  },
  {
   "cell_type": "code",
   "execution_count": 41,
   "metadata": {},
   "outputs": [],
   "source": [
    "# loading features into XGBoost DMatrix\n",
    "\n",
    "dtrain = xgb.DMatrix(X_train_cat, label=y_train, enable_categorical=True)\n",
    "dval = xgb.DMatrix(X_val_cat, label=y_val, enable_categorical=True)\n",
    "dtest = xgb.DMatrix(X_test_cat, label=y_test, enable_categorical=True)"
   ]
  },
  {
   "cell_type": "code",
   "execution_count": 42,
   "metadata": {},
   "outputs": [
    {
     "name": "stdout",
     "output_type": "stream",
     "text": [
      "CPU times: user 1min 43s, sys: 452 ms, total: 1min 44s\n",
      "Wall time: 1min 45s\n"
     ]
    }
   ],
   "source": [
    "%%time\n",
    "# starting with default hyperparameters\n",
    "\n",
    "params = {'eval_metric': 'rmse',\n",
    "         'seed': 1\n",
    "         }\n",
    "\n",
    "num_round_xgb = 500\n",
    "\n",
    "xgboost = xgb.train(params, dtrain, num_round_xgb, evals=[(dval, 'eval')], verbose_eval=False)"
   ]
  },
  {
   "cell_type": "code",
   "execution_count": 43,
   "metadata": {},
   "outputs": [
    {
     "name": "stdout",
     "output_type": "stream",
     "text": [
      "XGBoost RMSE Score: 1620.3475498055727\n",
      "CPU times: user 1.74 s, sys: 3.34 ms, total: 1.75 s\n",
      "Wall time: 1.72 s\n"
     ]
    }
   ],
   "source": [
    "%%time\n",
    "y_pred_xgb = xgboost.predict(dtest)\n",
    "print('XGBoost RMSE Score:', rmse_score(y_test, y_pred_xgb))"
   ]
  },
  {
   "cell_type": "code",
   "execution_count": 44,
   "metadata": {},
   "outputs": [
    {
     "name": "stdout",
     "output_type": "stream",
     "text": [
      "CPU times: user 1min 19s, sys: 184 ms, total: 1min 19s\n",
      "Wall time: 1min 20s\n"
     ]
    }
   ],
   "source": [
    "%%time\n",
    "# tuning hyperparameters\n",
    "params = {\n",
    "    'eval_metric': 'rmse',\n",
    "    'eta': 0.1,\n",
    "    'max_depth': 6,\n",
    "    'subsample': 0.8,\n",
    "    'colsample_bytree': 0.8,\n",
    "    'alpha': 0,\n",
    "    'verbosity': 0,\n",
    "    'seed': 1\n",
    "}\n",
    "\n",
    "num_round_xgb = 1000\n",
    "\n",
    "start_time = time.time()\n",
    "\n",
    "xgboost2 = xgb.train(params, dtrain, num_round_xgb, evals=[(dval, 'eval')],\n",
    "                  early_stopping_rounds=10, verbose_eval=False)\n",
    "\n",
    "end_time = time.time()\n",
    "\n",
    "xgb_train_time = end_time - start_time"
   ]
  },
  {
   "cell_type": "code",
   "execution_count": 45,
   "metadata": {},
   "outputs": [
    {
     "name": "stdout",
     "output_type": "stream",
     "text": [
      "Tuned XGBoost RMSE Score: 1609.8263533660395\n"
     ]
    }
   ],
   "source": [
    "start_time = time.time()\n",
    "\n",
    "y_pred_xgb = xgboost2.predict(dtest)\n",
    "\n",
    "end_time = time.time()\n",
    "\n",
    "xgb_pred_time = end_time - start_time\n",
    "\n",
    "xgb_rmse_score = rmse_score(y_test, y_pred_xgb)\n",
    "\n",
    "print('Tuned XGBoost RMSE Score:', xgb_rmse_score)\n",
    "\n",
    "rmse_scores_dict['XGB'].append(xgb_rmse_score)\n",
    "training_time_dict['XGB'].append(xgb_train_time)\n",
    "predict_time_dict ['XGB'].append(xgb_pred_time)"
   ]
  },
  {
   "cell_type": "markdown",
   "metadata": {},
   "source": [
    "Using XGBoost results in somewhat similar RMSE scores, but it is drastically slower than LightGBM. Moving on to CatBoost."
   ]
  },
  {
   "cell_type": "markdown",
   "metadata": {},
   "source": [
    "### CatBoost"
   ]
  },
  {
   "cell_type": "code",
   "execution_count": 46,
   "metadata": {},
   "outputs": [],
   "source": [
    "# establishing CatBoost Pools\n",
    "\n",
    "\n",
    "train_pool = Pool(X_train, y_train, cat_features = categoricals)\n",
    "test_pool = Pool(X_test, cat_features = categoricals)"
   ]
  },
  {
   "cell_type": "code",
   "execution_count": 47,
   "metadata": {},
   "outputs": [
    {
     "name": "stdout",
     "output_type": "stream",
     "text": [
      "RMSE of default CatBoost is: 1579.7344261421326\n",
      "CPU times: user 1min 55s, sys: 297 ms, total: 1min 56s\n",
      "Wall time: 1min 56s\n"
     ]
    }
   ],
   "source": [
    "%%time\n",
    "# establishing CatBoost regressor\n",
    "\n",
    "catboost = CatBoostRegressor(iterations=500, eval_metric='RMSE', verbose=False, random_seed=1)\n",
    "\n",
    "catboost.fit(train_pool)\n",
    "\n",
    "y_preds_catboost = catboost.predict(test_pool)\n",
    "\n",
    "print(\"RMSE of default CatBoost is:\", rmse_score(y_test, y_preds_catboost))"
   ]
  },
  {
   "cell_type": "code",
   "execution_count": 48,
   "metadata": {},
   "outputs": [
    {
     "name": "stdout",
     "output_type": "stream",
     "text": [
      "RMSE of Tuned CatBoost is: 1562.8978970428598\n",
      "CPU times: user 3min 52s, sys: 450 ms, total: 3min 52s\n",
      "Wall time: 3min 53s\n"
     ]
    }
   ],
   "source": [
    "%%time\n",
    "\n",
    "# catboost with tuned hyperparameters\n",
    "\n",
    "catboost2 = CatBoostRegressor(\n",
    "    learning_rate=0.1,\n",
    "    depth=6,\n",
    "    iterations=1000, \n",
    "    early_stopping_rounds=10,  \n",
    "    eval_metric='RMSE',\n",
    "    verbose=False,\n",
    "    random_seed = 1\n",
    ")\n",
    "\n",
    "start_time = time.time()\n",
    "\n",
    "catboost2.fit(train_pool)\n",
    "\n",
    "end_time = time.time()\n",
    "\n",
    "catboost_train_time = end_time - start_time\n",
    "\n",
    "start_time = time.time()\n",
    "\n",
    "y_preds_catboost2 = catboost2.predict(test_pool)\n",
    "\n",
    "end_time = time.time()\n",
    "\n",
    "catboost_pred_time = end_time - start_time\n",
    "\n",
    "catboost_rmse_score = rmse_score(y_test, y_preds_catboost2)\n",
    "\n",
    "\n",
    "\n",
    "print(\"RMSE of Tuned CatBoost is:\", catboost_rmse_score)\n",
    "\n",
    "rmse_scores_dict['CatBoost'].append(catboost_rmse_score)\n",
    "training_time_dict['CatBoost'].append(catboost_train_time)\n",
    "predict_time_dict ['CatBoost'].append(catboost_pred_time)"
   ]
  },
  {
   "cell_type": "markdown",
   "metadata": {},
   "source": [
    "Interestingly, CatBoost has similar performance and takes longer than XGBoost. "
   ]
  },
  {
   "cell_type": "markdown",
   "metadata": {},
   "source": [
    "## Model analysis"
   ]
  },
  {
   "cell_type": "code",
   "execution_count": 49,
   "metadata": {},
   "outputs": [
    {
     "data": {
      "image/png": "[encoded data removed]",
      "text/plain": [
       "<Figure size 720x432 with 1 Axes>"
      ]
     },
     "metadata": {
      "needs_background": "light"
     },
     "output_type": "display_data"
    },
    {
     "data": {
      "image/png": "[encoded data removed]",
      "text/plain": [
       "<Figure size 720x432 with 1 Axes>"
      ]
     },
     "metadata": {
      "needs_background": "light"
     },
     "output_type": "display_data"
    },
    {
     "data": {
      "image/png": "[encoded data removed]",
      "text/plain": [
       "<Figure size 720x432 with 1 Axes>"
      ]
     },
     "metadata": {
      "needs_background": "light"
     },
     "output_type": "display_data"
    }
   ],
   "source": [
    "labels = list(rmse_scores_dict.keys())\n",
    "\n",
    "values = [val[0] for val in rmse_scores_dict.values()]\n",
    "\n",
    "# RMSE Scores\n",
    "plt.figure(figsize=(10, 6))\n",
    "plt.bar(labels, values)\n",
    "plt.xlabel('Models')\n",
    "plt.ylabel('RMSE')\n",
    "plt.title('RMSE Scores of Different Models')\n",
    "plt.show()\n",
    "\n",
    "# Training time\n",
    "labels = list(training_time_dict.keys())\n",
    "\n",
    "values = [val[0] for val in training_time_dict.values()]\n",
    "\n",
    "plt.figure(figsize=(10, 6))\n",
    "plt.bar(labels, values)\n",
    "plt.xlabel('Models')\n",
    "plt.ylabel('Training Time (s)')\n",
    "plt.title('Training Times (s) of Different Models')\n",
    "plt.show()\n",
    "\n",
    "# Prediction time\n",
    "\n",
    "labels = list(predict_time_dict.keys())\n",
    "\n",
    "values = [val[0] for val in predict_time_dict.values()]\n",
    "\n",
    "# Plotting\n",
    "plt.figure(figsize=(10, 6))\n",
    "plt.bar(labels, values)\n",
    "plt.xlabel('Models')\n",
    "plt.ylabel('Prediction Time (s)')\n",
    "plt.title('Prediction Times (s) of Different Models')\n",
    "plt.show()"
   ]
  },
  {
   "cell_type": "code",
   "execution_count": 50,
   "metadata": {},
   "outputs": [],
   "source": [
    "nb_time_end = time.time()\n",
    "\n",
    "notebook_time = nb_time_end - nb_time_begin"
   ]
  },
  {
   "cell_type": "code",
   "execution_count": 51,
   "metadata": {},
   "outputs": [
    {
     "name": "stdout",
     "output_type": "stream",
     "text": [
      "Total notebook runtime: 12.7 minutes \n"
     ]
    }
   ],
   "source": [
    "print(f'Total notebook runtime: {round(notebook_time / 60, 1)} minutes ')"
   ]
  },
  {
   "cell_type": "markdown",
   "metadata": {},
   "source": [
    "## Conclusion"
   ]
  },
  {
   "cell_type": "markdown",
   "metadata": {},
   "source": [
    "After training and evaluating model models, some including gradient boosting and some not, I have come to a conclusion for the best model, based on the parameters of Quality, Training Speed and Prediction time. \n",
    "\n",
    "The most successful model in terms of those parameters would be the **Light GBM gradient boosting model**. It had the lowest RMSE, indicating it made the most accurate predictions. It had a significantly lower training speed than any other model aside from linear regression. While its prediction time was technically higher than the rest, it only took 8 seconds. Any other model either took much longer in training, or the quality just wasn't there. \n",
    "\n",
    "---\n",
    "\n",
    "Throughout this project, I have demonstrated the following abilities:\n",
    "\n",
    "* Taking the provided dataset and preparing it for modeling\n",
    "* Training various models, both gradient boosted and not, and evaluating them on the requested parameters: quality, training time and prediction time\n",
    "* Analyzed the results of the model evaluations\n",
    "* Suggested a final model that met the criteria requested"
   ]
  },
  {
   "cell_type": "markdown",
   "metadata": {},
   "source": [
    "# Checklist"
   ]
  },
  {
   "cell_type": "markdown",
   "metadata": {},
   "source": [
    "Type 'x' to check. Then press Shift+Enter."
   ]
  },
  {
   "cell_type": "markdown",
   "metadata": {},
   "source": [
    "- [x]  Jupyter Notebook is open\n",
    "- [x]  Code is error free\n",
    "- [x]  The cells with the code have been arranged in order of execution\n",
    "- [x]  The data has been downloaded and prepared\n",
    "- [x]  The models have been trained\n",
    "- [x]  The analysis of speed and quality of the models has been performed"
   ]
  }
 ],
 "metadata": {
  "kernelspec": {
   "display_name": "Python 3 (ipykernel)",
   "language": "python",
   "name": "python3"
  },
  "language_info": {
   "codemirror_mode": {
    "name": "ipython",
    "version": 3
   },
   "file_extension": ".py",
   "mimetype": "text/x-python",
   "name": "python",
   "nbconvert_exporter": "python",
   "pygments_lexer": "ipython3",
   "version": "3.11.5"
  },
  "toc": {
   "base_numbering": 1,
   "nav_menu": {},
   "number_sections": true,
   "sideBar": true,
   "skip_h1_title": true,
   "title_cell": "Table of Contents",
   "title_sidebar": "Contents",
   "toc_cell": false,
   "toc_position": {
    "height": "calc(100% - 180px)",
    "left": "10px",
    "top": "150px",
    "width": "368px"
   },
   "toc_section_display": true,
   "toc_window_display": true
  }
 },
 "nbformat": 4,
 "nbformat_minor": 2
}
